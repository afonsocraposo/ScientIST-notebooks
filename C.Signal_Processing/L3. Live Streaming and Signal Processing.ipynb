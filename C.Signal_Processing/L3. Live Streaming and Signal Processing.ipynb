{
 "cells": [
  {
   "cell_type": "markdown",
   "metadata": {},
   "source": [
    "# <div  style=\"color:#303030;font-family:'arial blACK', sans-serif,monospace; text-align: center; padding: 50px 0; vertical-align:middle;\" > <img src=\"https://github.com/PIA-Group/ScientIST-notebooks/blob/master/_Resources/Images/Lightbulb.png?raw=true\" style=\" background:#00a0e4;border-radius:10px;width:150px;text-align:left; margin-left:5%\"  /> <span style=\"position:relative; bottom:70px; margin-left:5%\">Live Streaming and Signal Processing</span> </div>"
   ]
  },
  {
   "cell_type": "markdown",
   "metadata": {},
   "source": [
    "## <span style=\"color:#00a0e4;\"> Keywords: </span>"
   ]
  },
  {
   "cell_type": "markdown",
   "metadata": {},
   "source": [
    "```Serial Port```, ```Python```, ```Live Streaming```, `Signal Processing`"
   ]
  },
  {
   "cell_type": "markdown",
   "metadata": {},
   "source": [
    "# I. Introduction\n",
    "<br>\n",
    "<div class=\"title\"style=\"width:100%; background:#00a0e4;font-family:'arial black',monospace; text-align: center; padding: 7px 0; border-radius: 5px 50px;margin-top:-15px\" >  </div>"
   ]
  },
  {
   "cell_type": "markdown",
   "metadata": {},
   "source": [
    "## <div style=\"color:#00a0e4\"> 1. Background </div>"
   ]
  },
  {
   "cell_type": "markdown",
   "metadata": {},
   "source": [
    "Whether for post-processing, long-term storage, customized development or other reasons alike, in many biomedical applications it is often useful to interact with devices programmatically, from within our own software running on a computer or mobile phone, rather than relying on third-party tools. In this lesson we will experiment with handling of live (aka real time) data acquisition from within a set of purpose-built programs, with special emphasis on serial port communication and data logging using the Python programming language."
   ]
  },
  {
   "cell_type": "markdown",
   "metadata": {},
   "source": [
    "<img src=\"https://github.com/PIA-Group/ScientIST-notebooks/blob/master/_Resources/Images/C.Signal_Processing_IMG/c004/serialmonitor.png?raw=true\" width=\"450\">"
   ]
  },
  {
   "cell_type": "markdown",
   "metadata": {},
   "source": [
    "## <div style=\"color:#00a0e4\"> 2. Objectives</div>\n",
    "* Get familiar with the Python programming language\n",
    "* Learn the basics of programatic access to the serial port\n",
    "* Create a simple serial port monitor, a live plotter and a data logger"
   ]
  },
  {
   "cell_type": "markdown",
   "metadata": {},
   "source": [
    "## <div style=\"color:#00a0e4\"> 3. Materials </div>\n",
    "* Python 3\n",
    "* Arduino IDE\n",
    "* 1x Arduino Uno\n",
    "* 1x USB cable\n",
    "* 1x Breadboard\n",
    "* 1x Function Generator"
   ]
  },
  {
   "cell_type": "markdown",
   "metadata": {},
   "source": [
    "<div style=\"background:#fbb144;font-family:'arial', monospace; text-align: center; padding: 10px 0; border-radius:10px; width:70%; margin:auto \" >\n",
    "  <span style=\"font-size:20px;position:relative;color:white; \">  Warning! </span> <br>\n",
    "  <div style=\"background:#ffd08a;font-size:12px\"> \n",
    "    Unless otherwise noticed make sure that you use a 19200bps baud rate\n",
    "throughout the following experiments.  \n",
    "</div>"
   ]
  },
  {
   "cell_type": "markdown",
   "metadata": {},
   "source": [
    "# II. Experimental\n",
    "<br>\n",
    "<div style=\"width:100%; background:#00a0e4;color:#282828;font-family:'arial black'; text-align: center; padding: 7px 0; border-radius: 5px 50px; margin-top:-15px\" > </div>"
   ]
  },
  {
   "cell_type": "markdown",
   "metadata": {},
   "source": [
    "This section should guide the students during their experimental procedure, and contain the most relevant content."
   ]
  },
  {
   "cell_type": "markdown",
   "metadata": {},
   "source": [
    "## <div style=\"color:#00a0e4;\">  1. Configuring a Python Framework</div>\n"
   ]
  },
  {
   "cell_type": "markdown",
   "metadata": {},
   "source": [
    "1. As you know by now, Python is a \"batteries included\" language. If you browse around there are dozens of distributions available, with different degrees of completion in what concerns the set of pre-installed modules. One of the most all-terrain options to get started is the Anaconda Python distribution."
   ]
  },
  {
   "cell_type": "markdown",
   "metadata": {},
   "source": [
    "Anaconda Python download page:"
   ]
  },
  {
   "cell_type": "markdown",
   "metadata": {},
   "source": [
    "<img src=\"https://github.com/afonsocraposo/ScientIST-notebooks/blob/master/_Resources/Images/C.Signal_Processing_IMG/l03/anaconda.png?raw=true\" width=\"700\" style=\"border: 2px solid #555;\">"
   ]
  },
  {
   "cell_type": "markdown",
   "metadata": {},
   "source": [
    "<div style=\"background:#946db2;font-family:'arial', monospace; text-align: center; padding: 10px 0; border-radius:10px; width:70%; margin:auto \" >\n",
    "  <span style=\"font-size:20px;position:relative;color:white; \"> Explore </span> <br>\n",
    "  <div style=\"background:#d0b3e6;font-size:12px\"> \n",
    "    <a href=\"https://www.anaconda.com/products/individual\">https://www.anaconda.com/products/individual</a>\n",
    "</div>"
   ]
  },
  {
   "cell_type": "markdown",
   "metadata": {},
   "source": [
    "2. Once installed, the Anaconda Navigator application will be available in your computer. From the starting page you have several tools to choose from; we will use Spyder, so select that option to open the IDE."
   ]
  },
  {
   "cell_type": "markdown",
   "metadata": {},
   "source": [
    "        Anaconda Navigator starting page:\n",
    "<img src=\"https://github.com/PIA-Group/ScientIST-notebooks/blob/master/_Resources/Images/C.Signal_Processing_IMG/c004/AnacondaNavigator.png?raw=true\" width=\"550\">"
   ]
  },
  {
   "cell_type": "markdown",
   "metadata": {},
   "source": [
    "<div style=\"background:#48ba57;font-family:'arial', monospace; text-align: center; padding: 10px 0; border-radius:10px; width:70%; margin:auto \" >\n",
    "  <span style=\"font-size:20px;position:relative;color:white; \">  Note </span> <br>\n",
    "  <div style=\"background:#9de3a6;font-size:12px\"> \n",
    "      The Spyder IDE is used as an example for this laboratory. If you prefer, you can use another software of your choice.\n",
    "</div>"
   ]
  },
  {
   "cell_type": "markdown",
   "metadata": {},
   "source": [
    "    3. Spyder provides several convenient features for Python code editing and execution; the following figure shows the main functionalities you will need."
   ]
  },
  {
   "cell_type": "markdown",
   "metadata": {},
   "source": [
    "        Overview of the Spyder IDE Graphical User Interface (GUI):\n",
    "<img src=\"https://github.com/PIA-Group/ScientIST-notebooks/blob/master/_Resources/Images/C.Signal_Processing_IMG/c004/SpyderIDE.png?raw=true\" width=\"550\">\n",
    "<img src=\"https://github.com/PIA-Group/ScientIST-notebooks/blob/master/_Resources/Images/C.Signal_Processing_IMG/c004/SpyderIDEexplained.png?raw=true\" width=\"550\">"
   ]
  },
  {
   "cell_type": "markdown",
   "metadata": {},
   "source": [
    "## <div style=\"color:#00a0e4;\">  2. DiY Serial Monitor</div>\n"
   ]
  },
  {
   "cell_type": "markdown",
   "metadata": {},
   "source": [
    "The ability to control and capture data transmitted by an embedded device in our custom software applications on the receiver (e.g. a computer), is usually a convenient step that opens up a whole new world of opportunities. As such, this experiment will focus on using Python to implement a program that sets up a communication channel between the computer and the Arduino, with the purpose of receiving a data stream sent by the latter.\n",
    "\n",
    "1. Connect the Arduino to the Function Generator as you did in the first laboratory, *L1. Seeeduino Nano Essentials*, but to the `A0` input instead. Setup a signal of your choice taking into account the voltage limits of the Seeeduino Nano."
   ]
  },
  {
   "cell_type": "markdown",
   "metadata": {},
   "source": [
    "<img src=\"https://github.com/afonsocraposo/ScientIST-notebooks/blob/master/_Resources/Images/C.Signal_Processing_IMG/l03/function_generator.png?raw=true\" width=\"600\">"
   ]
  },
  {
   "cell_type": "markdown",
   "metadata": {},
   "source": [
    "<div style=\"background:#fe9b29; font-family:'arial', monospace;text-align: center; padding: 10px 0; border-radius:10px; width:70%; margin:auto \" >\n",
    "  <span style=\"font-size:20px;position:relative;color:white; \">  Caution! </span> <br>\n",
    "  <div style=\"background:#ffdab0;font-size:12px\"> \n",
    "    The Seeeduino Nano works with low voltages and currents, which means you must be careful when connecting a function generator to it. Always make sure that the output voltage is between 0 and 5V and never above this range, since you can damage your device. Therefore, make sure the OUTPUT is turned OFF and only turn it ON once you are sure that the function generator has the appropriate settings.\n",
    "</div>"
   ]
  },
  {
   "cell_type": "markdown",
   "metadata": {},
   "source": [
    "2. Flash the Arduino program you used in the second laboratory, *L2. Analog-to-Digital Conversion (ADC)*."
   ]
  },
  {
   "cell_type": "markdown",
   "metadata": {},
   "source": [
    "```cpp\n",
    "bool state=false;\n",
    "int f=100, dt=0;\n",
    "char command;\n",
    "unsigned long t=0, lt=0; \n",
    "\n",
    "void setup() {\n",
    "  // initialize the serial communication:\n",
    "  Serial.begin(9600);\n",
    "  dt=int(1000*1/(float)f);\n",
    "}\n",
    "\n",
    "void loop() {\n",
    "  if (Serial.available()) {\n",
    "    command = Serial.read();\n",
    "    switch (command) {\n",
    "      case 'S': \n",
    "        state=!state;\n",
    "        break;\n",
    "      case 'F':\n",
    "        f=Serial.parseInt();\n",
    "        Serial.println(f);\n",
    "        dt=int(1000*1/(float)f);\n",
    "        break;\n",
    "    }\n",
    "    lt=millis();\n",
    "  }\n",
    "  if (state) {\n",
    "    t=millis();\n",
    "    if ((t-lt)>=dt) {\n",
    "      Serial.print(t);\n",
    "      Serial.print(\",\");\n",
    "      Serial.print(analogRead(A0));\n",
    "      Serial.print(\"\\n\");\n",
    "      lt=t;\n",
    "    }\n",
    "  }\n",
    "}\n",
    "```"
   ]
  },
  {
   "cell_type": "markdown",
   "metadata": {},
   "source": [
    "3. Open the Serial Monitor tool from the Arduino IDE and confirm that the program is working as expected (i.e. streaming data based on the commands sent from the computer)\n",
    "\n",
    "4. Create a new (empty) Python program in the Spyder IDE \n",
    "\n",
    "5. Write a program that uses the **PySerial** (serial) module to connect to your Arduino, start the data acquisition process (by sending the S command), continuously read and print on the console the data streamed by the Arduino for 10 seconds, and stop the data acquisition process (by resending the S command)\n",
    "\n",
    "6. Run your program and verify the output in the interactive shell; a series of lines showing the messages transmitted by the Arduino should appear just like in the Arduino Serial Monitor"
   ]
  },
  {
   "cell_type": "markdown",
   "metadata": {},
   "source": [
    "<div style=\"background:#fe9b29;font-family:'arial', monospace; text-align: center; padding: 10px 0; border-radius:10px; width:70%; margin:auto \" >\n",
    "  <span style=\"font-size:20px;position:relative;color:white; \">  Caution! </span> <br>\n",
    "  <div style=\"background:#ffdab0;font-size:12px\"> \n",
    "    ONLY ONE software application can be connected to the same serial\n",
    "port at any given time so make sure that the Arduino Serial Monitor\n",
    "(which connects to the serial port also) is closed before running your\n",
    "program, otherwise you will have an error indicating that Python is not\n",
    "able to open the communication port.    \n",
    "</div>"
   ]
  },
  {
   "cell_type": "markdown",
   "metadata": {},
   "source": [
    "<div style=\"background:#48ba57;font-family:'arial', monospace; text-align: center; padding: 10px 0; border-radius:10px; width:70%; margin:auto \" >\n",
    "  <span style=\"font-size:20px;position:relative;color:white; \">  Note </span> <br>\n",
    "  <div style=\"background:#9de3a6;font-size:12px\"> \n",
    "      You can use the <b>time Python module</b> to access a set of functions related with the handling of time. For this exercise you can use the <b>time()</b> function, which returns the system time in seconds.\n",
    "      <a href=\"https://www.programiz.com/python-programming/time\">https://www.programiz.com/python-programming/time</a>\n",
    "</div>"
   ]
  },
  {
   "cell_type": "markdown",
   "metadata": {},
   "source": [
    "<div style=\"background:#946db2;font-family:'arial', monospace; text-align: center; padding: 10px 0; border-radius:10px; width:70%; margin:auto \" >\n",
    "  <span style=\"font-size:20px;position:relative;color:white; \"> Explore </span> <br>\n",
    "  <div style=\"background:#d0b3e6;font-size:12px\"> \n",
    "    For in-depth documentation and examples regarding the use of the PySerial (serial) module, please refer to:\n",
    "<a href=\"https://pythonhosted.org/pyserial/shortintro.html\">https://pythonhosted.org/pyserial/shortintro.html</a>\n",
    "</div>"
   ]
  },
  {
   "cell_type": "markdown",
   "metadata": {},
   "source": [
    "## <div style=\"color:#00a0e4;\">   3. Plotting in Real-Time</div>\n"
   ]
  },
  {
   "cell_type": "markdown",
   "metadata": {},
   "source": [
    "Things can gain a totally different meaning when we’re seeing visual representations rather than just numbers going by. In this experiment we will build upon our serial monitor tool, and implement a program that can show a live (interactive) representation of the data streamed by the Arduino."
   ]
  },
  {
   "cell_type": "markdown",
   "metadata": {},
   "source": [
    "1. Create a copy of the Python program developed in the previous section\n",
    "\n",
    "2. Adapt the program to accumulate the values from the analog input channel streamed by the device in a variable of type `list` and plot the variable whenever it is updated\n",
    "\n",
    "3. Run your program and verify the output; a graphic should appear, but (most likely) only when the data acquisition stops\n",
    "\n",
    "4. To force the graphic to be redrawn in what is known as interactive mode, use the function `pause(...)` from the **Matplotlib** module (even a very short amount of time such as 0.00001 seconds should make the graphic show up in real time)\n",
    "\n",
    "5. Run your program and verify the output; an interactive graphic should appear, but (most  likely) in \"rainbow\" party mode... this happens because the Python graphics library accumulates each time series in the same plot, so what you’re seeing is an overlap of the plots made whenever a new message is received from the Arduino and the data vector updated\n",
    "\n",
    "6. Change this behaviour by clearing the visualization area prior to plotting the data (you can use the function `cla()` from the **Matplotlib** module for this)\n",
    "\n",
    "7. Run your program and verify the output; everything should be working as expected"
   ]
  },
  {
   "cell_type": "markdown",
   "metadata": {},
   "source": [
    "<div style=\"background:#fbb144;font-family:'arial', monospace; text-align: center; padding: 10px 0; border-radius:10px; width:70%; margin:auto \" >\n",
    "  <span style=\"font-size:20px;position:relative;color:white; \">  Warning! </span> <br>\n",
    "  <div style=\"background:#ffd08a;font-size:12px\"> \n",
    "     By default Spyder is generally configured to display the graphics inline within the interactive shell. For this exercise <b>you’ll need to have the graphics as a separate window</b>, which can be configured by accessing the Spyder Preferences > IPython Console > Graphics pane and in the Backend option selecting (e.g.) Tkinter. You should need to restart the Spyder IDE for the changes to take effect. \n",
    "</div>\n",
    "</div>\n",
    "<br>\n",
    "\n",
    "<div style=\"background:#48ba57;font-family:'arial', monospace; text-align: center; padding: 10px 0; border-radius:10px; width:70%; margin:auto \" >\n",
    "  <span style=\"font-size:20px;position:relative;color:white; \">  Note </span> <br>\n",
    "  <div style=\"background:#9de3a6;font-size:12px\"> \n",
    "      You can use the <b>Matplotlib</b> Python module to access a set of functions related with data plotting. For this exercise you can use the <i>plot()</i> function to show a graphic of a data vector. Note that the <i>show()</i> function should be called to display the graphic for the first time.\n",
    "</div>\n",
    "</div>\n",
    "<br>\n",
    "\n",
    "<div style=\"background:#946db2;font-family:'arial', monospace; text-align: center; padding: 10px 0; border-radius:10px; width:70%; margin:auto \" >\n",
    "  <span style=\"font-size:20px;position:relative;color:white; \"> Explore </span> <br>\n",
    "  <div style=\"background:#d0b3e6;font-size:12px\"> \n",
    "      For in-depth <b>documentation and examples</b> regarding the use of the plotting functions, please refer to:\n",
    "<a href=\"https://matplotlib.org/stable/tutorials/index.html\">https://matplotlib.org/stable/tutorials/index.html</a>\n",
    "</div></div>\n"
   ]
  },
  {
   "cell_type": "markdown",
   "metadata": {},
   "source": [
    "## <div style=\"color:#00a0e4;\">   4. My Data Logger </div>\n"
   ]
  },
  {
   "cell_type": "markdown",
   "metadata": {},
   "source": [
    "Recording data collected by a given device for later analysis, sharing and/or processing is one of the most fundamental tasks when dealing with biomedical signals. To explore this dimension, in this experiment we will create a program that stores the data streamed by the Arduino in standard CSV (comma-separated values) files.\n",
    "\n",
    "1. Create a copy of the Python program developed in section 2, *DiY Serial Monitor*\n",
    "\n",
    "2. Adapt the program to continously store the data streamed by the Arduino in an CSV file, in addition to printing it on the console (as before)\n",
    "\n",
    "3. Run your program\n",
    "\n",
    "4. Use a spreadsheet software of your choice to open the resulting file and visually verify the results by creating a chart"
   ]
  },
  {
   "cell_type": "markdown",
   "metadata": {},
   "source": [
    "<div style=\"background:#946db2;font-family:'arial', monospace; text-align: center; padding: 10px 0; border-radius:10px; width:70%; margin:auto \" >\n",
    "  <span style=\"font-size:20px;position:relative;color:white; \"> Explore </span> <br>\n",
    "  <div style=\"background:#d0b3e6;font-size:12px\"> \n",
    "      For <b>examples</b> regarding the writing to files in Python, please refer to:\n",
    "<a href=\"https://www.geeksforgeeks.org/writing-to-file-in-python/\">https://www.geeksforgeeks.org/writing-to-file-in-python/</a>\n",
    "</div></div>"
   ]
  },
  {
   "cell_type": "markdown",
   "metadata": {},
   "source": [
    "# III. Explore\n",
    "<br>\n",
    "<div class='h1'  style=\"width:100%; background:#00a0e4;color:#282828;font-family:'arial black'; text-align: center; padding: 7px 0; border-radius: 5px 50px;margin-top:-15px\" > </div>"
   ]
  },
  {
   "cell_type": "markdown",
   "metadata": {},
   "source": [
    "## <div style=\"color:#00a0e4;\">  1. Quiz  </div>\n",
    "\n",
    "**1.** The Arduino millis() function returns the number of milliseconds since a currently executed program started running. As a result, the time streamed by the firmware of Section II.2. does not begin in 0 when the transmission starts. Adapt the Arduino firmware so that a zero-based timeline is streamed. Using the provided firmware, adapt your Python code so the same effect is obtained.\n",
    "\n",
    "**2.** Adapt the program created in Section II.2. so instead of printing on the console the data streamed by the Arduino, it computes and prints the `min`, `max`, and `mean` values every 2 seconds of the previous 2 seconds of data streamed. \n",
    "\n",
    "**3.** For the program created in Section II.3., see how many data points (aka samples) were accumulated in the list upon completion of the code. Comment the parts of the program that plot the data in real time an see how many samples were accumulated this time. Was there a difference in the number of samples? Explain what happened.\n",
    "    \n",
    "**4.** Create a new Python program for bulk reading of the data stored as a result of the experiment performed in Section II.4., and display of a plot (complete with axis labels, title and legend) showing the time plotted against the signal from the function generator. Improve your code so it automatically saves the generated plot into an image file."
   ]
  },
  {
   "cell_type": "markdown",
   "metadata": {},
   "source": [
    "##  <div style=\"color:#00a0e4;\">  2. Beyond the Lab </div>\n",
    "\n",
    "This section is not mandatory and will not influence the evaluation of the lab. These are suplementary exercises designed for those who wish to explore and learn more about Arduino-based systems and Python signal processing.\n",
    "\n",
    "**1.** Generating a sine wave with the Function Generator, write a Python program that detects the peaks of the signal based on the derivative of the signal or zero crossings.\n",
    "\n",
    "<img src=\"https://www.researchgate.net/profile/Bogdan-Kasztenny/publication/321255243/figure/fig8/AS:668326997024778@1536352981536/Zero-crossing-detection-for-frequency-measurement.png\" width=\"500\">"
   ]
  },
  {
   "cell_type": "markdown",
   "metadata": {},
   "source": [
    "<div style=\"height:100px; background:white;border-radius:10px;text-align:center\"> \n",
    "\n",
    "<a> <img src=\"https://github.com/PIA-Group/ScientIST-notebooks/blob/master/_Resources/Images/IT.png?raw=true\" alt=\"it\" style=\" bottom: 0; width:250px;\n",
    "    display: inline;\n",
    "    left: 250px;\n",
    "    position: absolute;\"/> </a>\n",
    "<img src=\"https://github.com/PIA-Group/ScientIST-notebooks/blob/master/_Resources/Images/IST.png?raw=true\"\n",
    "         alt=\"alternate text\" \n",
    "         style=\"position: relative;   width:250px;\"/>\n",
    "</div> "
   ]
  },
  {
   "cell_type": "markdown",
   "metadata": {},
   "source": [
    "<div style=\"width: 100%; \">\n",
    "<div style=\"background:linear-gradient(to right,#FDC86E,#fbb144);font-family:'arial', monospace; text-align: center; padding: 50px 0; border-radius:10px; height:10px; width:100%; float:left \" >\n",
    "<span style=\"font-size:12px;position:relative; top:-25px\">  Please provide us your feedback <span style=\"font-size:14px;position:relative;COLOR:WHITE\"> <a href=\"https://forms.gle/C8TdLQUAS9r8BNJM8\">here</a>.</span></span> \n",
    "<br>\n",
    "<span style=\"font-size:17px;position:relative; top:-20px\">  Suggestions are welcome! </span> \n",
    "</div>"
   ]
  },
  {
   "cell_type": "markdown",
   "metadata": {},
   "source": [
    "`Contributors: Prof. Hugo Silva; Joana Pinto; Afonso Raposo`"
   ]
  }
 ],
 "metadata": {
  "kernelspec": {
   "display_name": "Python 3 (ipykernel)",
   "language": "python",
   "name": "python3"
  },
  "language_info": {
   "codemirror_mode": {
    "name": "ipython",
    "version": 3
   },
   "file_extension": ".py",
   "mimetype": "text/x-python",
   "name": "python",
   "nbconvert_exporter": "python",
   "pygments_lexer": "ipython3",
   "version": "3.9.7"
  }
 },
 "nbformat": 4,
 "nbformat_minor": 4
}
